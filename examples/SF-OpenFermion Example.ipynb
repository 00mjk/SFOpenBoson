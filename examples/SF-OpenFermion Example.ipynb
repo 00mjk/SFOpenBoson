{
 "cells": [
  {
   "cell_type": "code",
   "execution_count": 1,
   "metadata": {},
   "outputs": [],
   "source": [
    "from openfermion.ops import BosonOperator, QuadOperator, normal_ordered_quad"
   ]
  },
  {
   "cell_type": "code",
   "execution_count": 2,
   "metadata": {},
   "outputs": [],
   "source": [
    "import numpy as np"
   ]
  },
  {
   "cell_type": "code",
   "execution_count": 3,
   "metadata": {},
   "outputs": [],
   "source": [
    "import strawberryfields as sf\n",
    "from strawberryfields.ops import *\n",
    "from SFopenfermion.ops import *\n",
    "from SFopenfermion.hamiltonians import *"
   ]
  },
  {
   "cell_type": "code",
   "execution_count": 4,
   "metadata": {},
   "outputs": [
    {
     "data": {
      "text/plain": [
       "1j [0 1] +\n",
       "(-0-1j) [0^ 1^]"
      ]
     },
     "execution_count": 4,
     "metadata": {},
     "output_type": "execute_result"
    }
   ],
   "source": [
    "H1, t1 = two_mode_squeezing(0.1)\n",
    "H1"
   ]
  },
  {
   "cell_type": "code",
   "execution_count": 5,
   "metadata": {},
   "outputs": [
    {
     "data": {
      "text/plain": [
       "1j [0^ 2] +\n",
       "(-0-1j) [0 2^]"
      ]
     },
     "execution_count": 5,
     "metadata": {},
     "output_type": "execute_result"
    }
   ],
   "source": [
    "H2, t2 = beamsplitter(mode1=0, mode2=2)\n",
    "H2"
   ]
  },
  {
   "cell_type": "code",
   "execution_count": 6,
   "metadata": {},
   "outputs": [],
   "source": [
    "eng, q = sf.Engine(3, hbar=2)\n",
    "\n",
    "with eng:\n",
    "    GaussianHamiltonian(t1, H1) | (q[1], q[2])\n",
    "    GaussianHamiltonian(t2, H2, 'global') | q\n",
    "    \n",
    "state = eng.run('gaussian')"
   ]
  },
  {
   "cell_type": "code",
   "execution_count": 7,
   "metadata": {},
   "outputs": [
    {
     "data": {
      "text/plain": [
       "array([[ 1.01003338, -0.14236605,  0.01003338,  0.        ,  0.        ,\n",
       "         0.        ],\n",
       "       [-0.14236605,  1.02006676, -0.14236605,  0.        ,  0.        ,\n",
       "         0.        ],\n",
       "       [ 0.01003338, -0.14236605,  1.01003338,  0.        ,  0.        ,\n",
       "         0.        ],\n",
       "       [ 0.        ,  0.        ,  0.        ,  1.01003338,  0.14236605,\n",
       "         0.01003338],\n",
       "       [ 0.        ,  0.        ,  0.        ,  0.14236605,  1.02006676,\n",
       "         0.14236605],\n",
       "       [ 0.        ,  0.        ,  0.        ,  0.01003338,  0.14236605,\n",
       "         1.01003338]])"
      ]
     },
     "execution_count": 7,
     "metadata": {},
     "output_type": "execute_result"
    }
   ],
   "source": [
    "np.round(state.cov(), 10)"
   ]
  },
  {
   "cell_type": "code",
   "execution_count": 8,
   "metadata": {},
   "outputs": [
    {
     "name": "stdout",
     "output_type": "stream",
     "text": [
      "BSgate(0.7854, 0), \t(reg[1], reg[2])\n",
      "Sgate(-0.1, 0), \t(reg[1])\n",
      "Sgate(-0.1, 0), \t(reg[2])\n",
      "Rgate(1.571), \t(reg[1])\n",
      "BSgate(0.7854, 0), \t(reg[1], reg[2])\n",
      "BSgate(1.571, 0), \t(reg[0], reg[1])\n",
      "BSgate(-0.7854, 0), \t(reg[1], reg[2])\n",
      "BSgate(-1.571, 0), \t(reg[0], reg[1])\n"
     ]
    }
   ],
   "source": [
    "eng.print_applied()"
   ]
  },
  {
   "cell_type": "markdown",
   "metadata": {},
   "source": [
    "# Displacement"
   ]
  },
  {
   "cell_type": "code",
   "execution_count": 1,
   "metadata": {},
   "outputs": [],
   "source": [
    "from openfermion.ops import BosonOperator, QuadOperator, normal_ordered_quad"
   ]
  },
  {
   "cell_type": "code",
   "execution_count": 2,
   "metadata": {},
   "outputs": [],
   "source": [
    "import numpy as np"
   ]
  },
  {
   "cell_type": "code",
   "execution_count": 3,
   "metadata": {},
   "outputs": [],
   "source": [
    "import strawberryfields as sf\n",
    "from strawberryfields.ops import *\n",
    "from SFopenfermion.ops import *\n",
    "from SFopenfermion.hamiltonians import *"
   ]
  },
  {
   "cell_type": "code",
   "execution_count": 6,
   "metadata": {},
   "outputs": [
    {
     "data": {
      "text/plain": [
       "(array([[ 0.,  0.],\n",
       "        [ 0.,  0.]]), array([ 2.,  0.]))"
      ]
     },
     "execution_count": 6,
     "metadata": {},
     "output_type": "execute_result"
    }
   ],
   "source": [
    "quadratic_coefficients(xdisplacement(0.1, hbar=0.5)[0])"
   ]
  },
  {
   "cell_type": "code",
   "execution_count": 7,
   "metadata": {},
   "outputs": [],
   "source": [
    "H = lambda t: get_quad_operator(BosonOperator('0^ 0', t), hbar=2) + QuadOperator('q0', 0.1)"
   ]
  },
  {
   "cell_type": "code",
   "execution_count": null,
   "metadata": {},
   "outputs": [],
   "source": [
    "H1 = BosonOperator('0^ 0')"
   ]
  },
  {
   "cell_type": "code",
   "execution_count": 5,
   "metadata": {},
   "outputs": [],
   "source": [
    "H2 = QuadOperator('q0 p0') + QuadOperator('p0 q0') - QuadOperator('p2 p2')"
   ]
  },
  {
   "cell_type": "code",
   "execution_count": 84,
   "metadata": {},
   "outputs": [
    {
     "data": {
      "text/plain": [
       "1.0 [q0 p0] +\n",
       "1.0 [p0 q0] +\n",
       "-1.0 [p2 p2]"
      ]
     },
     "execution_count": 84,
     "metadata": {},
     "output_type": "execute_result"
    }
   ],
   "source": [
    "H2"
   ]
  },
  {
   "cell_type": "code",
   "execution_count": 85,
   "metadata": {},
   "outputs": [],
   "source": [
    "eng, q = sf.Engine(3, hbar=2)\n",
    "\n",
    "\n",
    "with eng:\n",
    "    GaussianHamiltonian(1, H1) | q[0]\n",
    "    GaussianHamiltonian(0.5, H2, 'global') | q\n",
    "\n",
    "state = eng.run('gaussian')"
   ]
  },
  {
   "cell_type": "code",
   "execution_count": 8,
   "metadata": {},
   "outputs": [],
   "source": [
    "res = []\n",
    "for t in np.arange(0.001, 1, 0.001):\n",
    "    eng, q = sf.Engine(3, hbar=2)\n",
    "\n",
    "    with eng:\n",
    "        GaussianHamiltonian(1, H(t)) | q[0]\n",
    "\n",
    "    state = eng.run('gaussian')\n",
    "    res.append(state.means()[3])\n",
    "    \n",
    "res = np.array(res)"
   ]
  },
  {
   "cell_type": "code",
   "execution_count": 10,
   "metadata": {},
   "outputs": [],
   "source": [
    "import matplotlib.pyplot as plt\n",
    "%matplotlib inline"
   ]
  },
  {
   "cell_type": "code",
   "execution_count": 12,
   "metadata": {},
   "outputs": [
    {
     "data": {
      "text/plain": [
       "[<matplotlib.lines.Line2D at 0x7f05d86e6d30>]"
      ]
     },
     "execution_count": 12,
     "metadata": {},
     "output_type": "execute_result"
    },
    {
     "data": {
      "image/png": "[encoded data removed]",
      "text/plain": [
       "<matplotlib.figure.Figure at 0x7f05d87d0f60>"
      ]
     },
     "metadata": {},
     "output_type": "display_data"
    }
   ],
   "source": [
    "plt.plot(np.arange(0.001,1,0.001),res)"
   ]
  },
  {
   "cell_type": "code",
   "execution_count": 51,
   "metadata": {},
   "outputs": [
    {
     "data": {
      "text/plain": [
       "array([[ 1.,  0.,  0.,  0.,  0.,  0.],\n",
       "       [ 0.,  1.,  0.,  0.,  0.,  0.],\n",
       "       [ 0.,  0.,  1.,  0.,  0.,  0.],\n",
       "       [ 0.,  0.,  0.,  1.,  0.,  0.],\n",
       "       [ 0.,  0.,  0.,  0.,  1.,  0.],\n",
       "       [ 0.,  0.,  0.,  0.,  0.,  1.]])"
      ]
     },
     "execution_count": 51,
     "metadata": {},
     "output_type": "execute_result"
    }
   ],
   "source": [
    "np.round(state.cov(), 5)"
   ]
  },
  {
   "cell_type": "code",
   "execution_count": 31,
   "metadata": {},
   "outputs": [
    {
     "name": "stdout",
     "output_type": "stream",
     "text": [
      "Zgate(-0.2), \t(reg[0])\n"
     ]
    }
   ],
   "source": [
    "eng.print_applied()"
   ]
  },
  {
   "cell_type": "code",
   "execution_count": null,
   "metadata": {},
   "outputs": [],
   "source": []
  }
 ],
 "metadata": {
  "kernelspec": {
   "display_name": "Python 3",
   "language": "python",
   "name": "python3"
  },
  "language_info": {
   "codemirror_mode": {
    "name": "ipython",
    "version": 3
   },
   "file_extension": ".py",
   "mimetype": "text/x-python",
   "name": "python",
   "nbconvert_exporter": "python",
   "pygments_lexer": "ipython3",
   "version": "3.6.3"
  }
 },
 "nbformat": 4,
 "nbformat_minor": 2
}
